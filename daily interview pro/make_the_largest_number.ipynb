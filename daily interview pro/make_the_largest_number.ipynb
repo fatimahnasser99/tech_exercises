{
 "cells": [
  {
   "cell_type": "markdown",
   "metadata": {},
   "source": [
    "**Question:**\n",
    "\n",
    "Given a number of integers, combine them so it would create the largest number.\n",
    "\n",
    "**Example:**\n",
    "\n",
    "- Input: [17, 7, 2, 45, 72]\n",
    "- Output: 77245217\n",
    "\n",
    "**Template:**\n",
    "\n",
    "```python\n",
    "def largestNum(nums):\n",
    "  # Fill this in.\n",
    "\n",
    "print largestNum([17, 7, 2, 45, 72])\n",
    "# 77245217\n",
    "```\n"
   ]
  },
  {
   "cell_type": "markdown",
   "metadata": {},
   "source": [
    "<b>Solution Methodology:</b><br>\n",
    "\n",
    "greedy approach since the algorithm makes a locally optimal choice (in terms of the largest possible number formed by the current and next integer)\n",
    "\n",
    "<b>steps:</b>\n",
    "\n",
    "1. Convert the integers to strings:<br>This allows for easy comparison and concatenation.\n",
    "\n",
    "2. Sort the strings:<br>Define a custom comparator for sorting such that for two numbers x and y, the order is determined by comparing x+y and y+x.\n",
    "\n",
    "3. Concatenate the sorted strings:<br>This will form the largest number.\n"
   ]
  },
  {
   "cell_type": "code",
   "execution_count": 1,
   "metadata": {},
   "outputs": [],
   "source": [
    "# solution\n",
    "from functools import cmp_to_key\n",
    "\n",
    "def custom_sort(x, y):\n",
    "    if x + y > y + x:\n",
    "        return 1\n",
    "    elif x + y < y + x:\n",
    "        return -1\n",
    "    else:\n",
    "        return 0\n",
    "    \n",
    "def largestNum(nums):\n",
    "  strset = [str(num) for num in nums]\n",
    "  sorted_nums = sorted(strset, reverse=True, key=cmp_to_key(custom_sort))\n",
    "  largest_num = int(''.join(sorted_nums))\n",
    "  return largest_num"
   ]
  },
  {
   "cell_type": "code",
   "execution_count": 2,
   "metadata": {},
   "outputs": [
    {
     "name": "stdout",
     "output_type": "stream",
     "text": [
      "Test case 1 passed: [17, 7, 2, 45, 72] => 77245217\n",
      "Test case 2 passed: [0] => 0\n",
      "Test case 3 passed: [10] => 10\n",
      "Test case 4 passed: [5] => 5\n",
      "Test case 5 passed: [0, 0, 0] => 0\n",
      "Test case 6 passed: [10, 2] => 210\n",
      "Test case 7 passed: [3, 30, 34, 5, 9] => 9534330\n",
      "Test case 8 passed: [34, 3, 333, 330] => 343333330\n",
      "Test case 9 passed: [50, 2, 1, 9] => 95021\n",
      "Test case 10 passed: [11, 11, 11] => 111111\n",
      "Test case 11 passed: [123, 1234, 12345] => 123451234123\n",
      "Test case 12 passed: [999, 9999, 99999] => 999999999999\n",
      "Test case 13 passed: [1, 12, 121] => 121211\n",
      "Test case 14 passed: [21, 212, 211] => 21221211\n"
     ]
    }
   ],
   "source": [
    "def test_largestNum():\n",
    "    test_cases = [\n",
    "        ([17, 7, 2, 45, 72], 77245217),      # given test\n",
    "        ([0], 0),                            # Single number\n",
    "        ([10], 10),                          # Single number\n",
    "        ([5], 5),                            # Single number\n",
    "        ([0, 0, 0], 0),                      # All zeros\n",
    "        ([10, 2], 210),                      # Numbers with the same prefix\n",
    "        ([3, 30, 34, 5, 9], 9534330),       # Mixed small and large numbers\n",
    "        ([34, 3, 333, 330], 343333330),     # Numbers with the same prefix\n",
    "        ([50, 2, 1, 9], 95021),              # Mixed small and large numbers\n",
    "        ([11, 11, 11], 111111),              # Same number multiple times\n",
    "        ([123, 1234, 12345], 123451234123), # Large numbers\n",
    "        ([999, 9999, 99999], 999999999999), # Large numbers\n",
    "        ([1, 12, 121], 121211),              # Different lengths of numbers\n",
    "        ([21, 212, 211], 21221211),          # Different lengths of numbers\n",
    "    ]\n",
    "    \n",
    "    for i, (nums, expected) in enumerate(test_cases):\n",
    "        result = largestNum(nums)\n",
    "        assert result == expected, f\"Test case {i+1} failed: {nums} => {result}, expected: {expected}\"\n",
    "        print(f\"Test case {i+1} passed: {nums} => {result}\")\n",
    "\n",
    "test_largestNum()"
   ]
  },
  {
   "cell_type": "markdown",
   "metadata": {},
   "source": [
    "<b>Possible enhancement</b>\n",
    "\n",
    "Handle edge cases directly:\n",
    "\n",
    "1. If the largest number is 0, then all numbers are zeros\n",
    "2. If we have one number in the set then return directly the number\n"
   ]
  }
 ],
 "metadata": {
  "kernelspec": {
   "display_name": "base",
   "language": "python",
   "name": "python3"
  },
  "language_info": {
   "codemirror_mode": {
    "name": "ipython",
    "version": 3
   },
   "file_extension": ".py",
   "mimetype": "text/x-python",
   "name": "python",
   "nbconvert_exporter": "python",
   "pygments_lexer": "ipython3",
   "version": "3.9.18"
  }
 },
 "nbformat": 4,
 "nbformat_minor": 2
}
