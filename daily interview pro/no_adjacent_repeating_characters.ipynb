{
 "cells": [
  {
   "cell_type": "markdown",
   "metadata": {},
   "source": [
    "<b>Question:</b>\n",
    "\n",
    "Given a string, rearrange the string so that no character next to each other are the same.<br>\n",
    "If no such arrangement is possible, then return None.\n",
    "\n",
    "<b>Example:</b>\n",
    "\n",
    "- Input: abbccc\n",
    "- Output: cbcbca\n",
    "\n",
    "<b>Template:</b>\n",
    "\n",
    "```python\n",
    "def rearrangeString(s):\n",
    "  # Fill this in.\n",
    "\n",
    "print rearrangeString('abbccc')\n",
    "# cbcabc\n",
    "```\n"
   ]
  },
  {
   "cell_type": "markdown",
   "metadata": {},
   "source": [
    "<b>Solution Methodology:</b><br>\n",
    "\n",
    "use a greedy algorithm to always place the most frequent character in the next position.<br>\n",
    "\n",
    "<b>steps:</b>\n",
    "\n",
    "1. Counting and Sorting:<br> Count the occurrences of each character in the input string and sort the characters by frequency in descending order.\n",
    "\n",
    "2. Building the Output:<br> Loop through the input string's length, choosing the most frequent character that isn't the same as the last one added to the result.\n",
    "\n",
    "3. Handling Counts and Sorting:<br> Decrease the character's count and handle removal or updating of characters, ensuring the list remains sorted by frequency.\n"
   ]
  },
  {
   "cell_type": "code",
   "execution_count": 1,
   "metadata": {},
   "outputs": [],
   "source": [
    "# solution\n",
    "def rearrangeString(s):\n",
    "  chars_count =[]\n",
    "  output = ''\n",
    "  end_char = ''\n",
    "\n",
    "  for char in set(s):\n",
    "    c_count = s.count(char)\n",
    "    chars_count.append((c_count, char))\n",
    "  chars_count.sort(reverse=True)\n",
    "\n",
    "  for i in range(len(s)):\n",
    "    if end_char != chars_count[0][1]:\n",
    "      index = 0\n",
    "    elif len(chars_count)==1:\n",
    "      return None\n",
    "    else:  \n",
    "      index = 1\n",
    "    output+= chars_count[index][1]\n",
    "    end_char = output[-1]\n",
    "    if chars_count[index][0] -1 == 0:\n",
    "      chars_count.pop(index)\n",
    "    else:\n",
    "      chars_count[index]=(chars_count[index][0]-1, end_char)\n",
    "      chars_count.sort(reverse=True)\n",
    "    \n",
    "\n",
    "  return output  "
   ]
  },
  {
   "cell_type": "code",
   "execution_count": 2,
   "metadata": {},
   "outputs": [
    {
     "name": "stdout",
     "output_type": "stream",
     "text": [
      "Test case 1 passed:  => \n",
      "Test case 2 passed: a => a\n",
      "Test case 3 passed: aa => None\n",
      "Test case 4 passed: aaa => None\n",
      "Test case 5 passed: ab => ba\n",
      "Test case 6 passed: aaab => None\n",
      "Test case 7 passed: aabb => baba\n",
      "Test case 8 passed: aaabbc => abacba\n",
      "Test case 9 passed: abcdef => fedcba\n",
      "Test case 10 passed: aab => aba\n",
      "Test case 11 passed: aaabbbcc => bacbacba\n"
     ]
    }
   ],
   "source": [
    "# testing\n",
    "def test_rearrange_string():\n",
    "    test_cases = [\n",
    "        (\"\", \"\"),                    # Empty string\n",
    "        (\"a\", \"a\"),                  # Single character\n",
    "        (\"aa\", None),                # Two same characters\n",
    "        (\"aaa\", None),               # Multiple same characters\n",
    "        (\"ab\", \"ab\"),                # Two different characters\n",
    "        (\"aaab\", None),              # Frequencies making rearrangement impossible\n",
    "        (\"aabb\", \"abab\"),            # Even distribution of characters\n",
    "        (\"aaabbc\", \"ababac\"),        # Complex case with multiple characters\n",
    "        (\"abcdef\", \"abcdef\"),        # All unique characters\n",
    "        (\"aab\", \"aba\"),              # Characters that can be rearranged\n",
    "        (\"aaabbbcc\", \"abcababc\")     # Maximum frequency difference\n",
    "    ]\n",
    "    \n",
    "    for i, (s, expected) in enumerate(test_cases):\n",
    "        result = rearrangeString(s)\n",
    "        assert result == expected or (expected is not None and len(result) == len(s)), f\"Test case {i+1} failed: {s} => {result}, expected: {expected}\"\n",
    "        print(f\"Test case {i+1} passed: {s} => {result}\")\n",
    "\n",
    "test_rearrange_string()\n"
   ]
  },
  {
   "cell_type": "markdown",
   "metadata": {},
   "source": [
    "<b>Possible enhancement</b>\n",
    "\n",
    "Using `heapq` to create a max-heap (by pushing negative counts) makes the character selection more efficient compared to sorting the list in every iteration.\n"
   ]
  }
 ],
 "metadata": {
  "kernelspec": {
   "display_name": "base",
   "language": "python",
   "name": "python3"
  },
  "language_info": {
   "codemirror_mode": {
    "name": "ipython",
    "version": 3
   },
   "file_extension": ".py",
   "mimetype": "text/x-python",
   "name": "python",
   "nbconvert_exporter": "python",
   "pygments_lexer": "ipython3",
   "version": "3.9.18"
  }
 },
 "nbformat": 4,
 "nbformat_minor": 2
}
